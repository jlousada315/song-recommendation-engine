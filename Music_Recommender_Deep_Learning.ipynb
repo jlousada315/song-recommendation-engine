{
 "cells": [
  {
   "cell_type": "markdown",
   "metadata": {},
   "source": [
    "# Music Recommender with Deep Learning\n",
    "\n",
    "## Access Spotify API to collect Playlists and Songs to recommend music\n",
    "\n",
    "----"
   ]
  },
  {
   "cell_type": "markdown",
   "metadata": {},
   "source": [
    "## 1. Collect Data from Spotify API\n",
    "\n",
    "### Authentication"
   ]
  },
  {
   "cell_type": "code",
   "execution_count": null,
   "metadata": {},
   "outputs": [],
   "source": [
    "import spotipy\n",
    "from spotipy.oauth2 import SpotifyClientCredentials\n",
    "from spotipy import util\n",
    "from spotipy.client import SpotifyException\n",
    "from collections import Counter\n",
    "from gensim.utils import tokenize\n",
    "import time\n",
    "import tqdm\n",
    "import json"
   ]
  },
  {
   "cell_type": "code",
   "execution_count": null,
   "metadata": {},
   "outputs": [],
   "source": [
    "SPOTIPY_CLIENT_ID='af1274221fc940f4ac09951bdd86e58f'\n",
    "SPOTIPY_CLIENT_SECRET='cdd4846c96d447df94ccee89fc332f2c'\n",
    "SPOTIPY_REDIRECT_URI='http://127.0.0.1:8000/callback'"
   ]
  },
  {
   "cell_type": "code",
   "execution_count": null,
   "metadata": {},
   "outputs": [],
   "source": [
    "auth_manager = SpotifyClientCredentials(client_id=SPOTIPY_CLIENT_ID, client_secret=SPOTIPY_CLIENT_SECRET,requests_timeout=100)\n",
    "session = spotipy.Spotify(auth_manager=auth_manager)"
   ]
  },
  {
   "cell_type": "markdown",
   "metadata": {},
   "source": [
    "### Find Playlists"
   ]
  },
  {
   "cell_type": "code",
   "execution_count": 4,
   "metadata": {},
   "outputs": [],
   "source": [
    "load = True\n",
    "\n",
    "if load:\n",
    "    with open('data/playlists.json') as json_file: \n",
    "        playlists = json.load(json_file) "
   ]
  },
  {
   "cell_type": "code",
   "execution_count": null,
   "metadata": {},
   "outputs": [],
   "source": [
    "def find_playlists(session, w, max_count=5000):\n",
    "    try:\n",
    "        res = session.search(w, limit=50, type='playlist')\n",
    "        while res:\n",
    "            for playlist in res['playlists']['items']:\n",
    "                yield playlist\n",
    "                max_count -= 1\n",
    "                if max_count == 0:\n",
    "                    raise StopIteration\n",
    "            tries = 3\n",
    "            while tries > 0:\n",
    "                try:\n",
    "                    res = session.next(res['playlists'])\n",
    "                    tries = 0\n",
    "                except SpotifyException as e:\n",
    "                    tries -= 1\n",
    "                    time.sleep(0.2)\n",
    "                    if tries == 0:\n",
    "                        raise\n",
    "    except SpotifyException as e:\n",
    "        status = e.http_status\n",
    "        if status == 404:\n",
    "            raise StopIteration\n",
    "        raise\n",
    "\n",
    "\n",
    "for pl in find_playlists(session, 'a'):\n",
    "    break\n",
    "\n",
    "pl"
   ]
  },
  {
   "cell_type": "code",
   "execution_count": null,
   "metadata": {},
   "outputs": [],
   "source": [
    "word_counts = Counter({'a': 1})\n",
    "playlists = {}\n",
    "words_seen = set()\n",
    "playlists = {}\n",
    "count = 0\n",
    "dupes = 0"
   ]
  },
  {
   "cell_type": "code",
   "execution_count": null,
   "metadata": {
    "scrolled": true
   },
   "outputs": [],
   "source": [
    "while len(playlists) < 100000:\n",
    "    for word, _ in word_counts.most_common():\n",
    "        if not word in words_seen:\n",
    "            words_seen.add(word)\n",
    "            print('word>', word)\n",
    "            try:\n",
    "                for playlist in find_playlists(session, word):\n",
    "                    if playlist['id'] in playlists:\n",
    "                        dupes += 1\n",
    "                    elif playlist['name'] and playlist['owner']:\n",
    "                        playlists[playlist['id']] = {\n",
    "                          'owner': playlist['owner']['id'],\n",
    "                          'name': playlist['name'],\n",
    "                          'id': playlist['id'],\n",
    "                        }\n",
    "                        count += 1\n",
    "                        for token in tokenize(playlist['name'], lowercase=True):\n",
    "                            word_counts[token] += 1\n",
    "                break\n",
    "            except:\n",
    "                print('Skip to next iteration')\n",
    "                continue"
   ]
  },
  {
   "cell_type": "code",
   "execution_count": null,
   "metadata": {},
   "outputs": [],
   "source": [
    "import json\n",
    "with open('playlists.json', 'w') as fp:\n",
    "    json.dump(playlists, fp)"
   ]
  },
  {
   "cell_type": "markdown",
   "metadata": {},
   "source": [
    "### Find songs inside each playlists"
   ]
  },
  {
   "cell_type": "code",
   "execution_count": 5,
   "metadata": {},
   "outputs": [],
   "source": [
    "def track_yielder(session, playlist):\n",
    "    res = session.user_playlist_tracks(playlist['owner'], playlist['id'],\n",
    "              fields='items(track(id, name, artists(name, id), duration_ms)),next')\n",
    "    while res:\n",
    "        for track in res['items']:\n",
    "            if track['track']:\n",
    "                yield track['track']\n",
    "        tries = 3\n",
    "        while tries > 0:\n",
    "            try:\n",
    "                res = session.next(res)\n",
    "                if not res or not res.get('items'):\n",
    "                    raise StopIteration\n",
    "                tries = 0\n",
    "            except SpotifyException as e:\n",
    "                if 400 <= e.http_status <= 499:\n",
    "                    raise StopIteration\n",
    "                tries -= 1\n",
    "                time.sleep(1)\n",
    "                if tries == 0:\n",
    "                    raise e"
   ]
  },
  {
   "cell_type": "markdown",
   "metadata": {},
   "source": [
    "### Create SQL Database\n"
   ]
  },
  {
   "cell_type": "code",
   "execution_count": 7,
   "metadata": {},
   "outputs": [],
   "source": [
    "import os\n",
    "import sqlite3"
   ]
  },
  {
   "cell_type": "code",
   "execution_count": null,
   "metadata": {},
   "outputs": [],
   "source": [
    "if os.path.isfile('data/songs.db'):\n",
    "    os.remove('data/songs.db')\n",
    "conn = sqlite3.connect('data/songs.db')\n",
    "c = conn.cursor()\n",
    "c.execute('CREATE TABLE songs (id text primary key, name text, artist text)')\n",
    "c.execute('CREATE INDEX name_idx on songs(name)')\n",
    "\n",
    "tracks_seen = set()\n",
    "playlists_seen = set()"
   ]
  },
  {
   "cell_type": "code",
   "execution_count": null,
   "metadata": {},
   "outputs": [],
   "source": [
    "with open('data/playlists.ndjson', 'w') as fout_playlists:\n",
    "    with open('data/songs_ids.txt', 'w') as fout_song_ids:\n",
    "        for playlist in tqdm.tqdm(playlists.values()):\n",
    "            fout_playlists.write(json.dumps(playlist) + '\\n')\n",
    "            track_ids = []\n",
    "            try:\n",
    "                for track in track_yielder(session, playlist):\n",
    "                    track_id = track['id']\n",
    "                    if not track_id:\n",
    "                        continue\n",
    "                    if not track_id in tracks_seen:\n",
    "                        c.execute(\"INSERT INTO songs VALUES (?, ?, ?)\", \n",
    "                                  (track['id'], track['name'], track['artists'][0]['name']))\n",
    "                    track_ids.append(track_id)\n",
    "                    tracks_seen.add(track_id)\n",
    "                fout_song_ids.write(' '.join(track_ids) + '\\n')\n",
    "                conn.commit()\n",
    "            except:\n",
    "                continue\n",
    "conn.commit()"
   ]
  },
  {
   "cell_type": "code",
   "execution_count": 8,
   "metadata": {},
   "outputs": [
    {
     "name": "stderr",
     "output_type": "stream",
     "text": [
      " 17%|█▋        | 46396/273927 [3:31:28<8:35:07,  7.36it/s]  Max Retries reached\n",
      " 28%|██▊       | 76124/273927 [5:50:02<24:03:25,  2.28it/s] HTTP Error for GET to https://api.spotify.com/v1/playlists/0kjVGPu8XqedRCdC6rXzYy/tracks returned 404 due to Not found.\n",
      " 32%|███▏      | 86649/273927 [6:35:55<9:09:01,  5.69it/s]  HTTP Error for GET to https://api.spotify.com/v1/playlists/37i9dQZF1DZ06evO3jiHBu/tracks returned 404 due to Not found.\n",
      "100%|██████████| 273927/273927 [20:14:29<00:00,  3.76it/s]    \n"
     ]
    }
   ],
   "source": [
    "track_ids = []\n",
    "with open('data/songs_ids1.txt', 'w') as fout_song_ids:\n",
    "    for playlist in tqdm.tqdm(playlists.values()):\n",
    "        if len(track_ids) > 0:\n",
    "            fout_song_ids.write(' '.join(track_ids) + '\\n')\n",
    "        track_ids = []\n",
    "        try:\n",
    "            for track in track_yielder(session, playlist):\n",
    "                if not track['id']:\n",
    "                    continue\n",
    "                track_ids.append(track['id'])\n",
    "        except:\n",
    "            continue"
   ]
  },
  {
   "cell_type": "markdown",
   "metadata": {},
   "source": [
    "## Modelling"
   ]
  },
  {
   "cell_type": "code",
   "execution_count": 9,
   "metadata": {},
   "outputs": [],
   "source": [
    "from operator import itemgetter\n",
    "import gensim"
   ]
  },
  {
   "cell_type": "code",
   "execution_count": 10,
   "metadata": {},
   "outputs": [],
   "source": [
    "load = False \n",
    "\n",
    "if load:\n",
    "    model = gensim.models.Word2Vec.load('songs.word2vec')"
   ]
  },
  {
   "cell_type": "code",
   "execution_count": 12,
   "metadata": {},
   "outputs": [],
   "source": [
    "class WordSplitter(object):\n",
    "    def __init__(self, filename):\n",
    "        self.filename = filename\n",
    " \n",
    "    def __iter__(self):\n",
    "        with open(self.filename) as fin:\n",
    "            for line in fin:\n",
    "                yield line.split()\n",
    "\n",
    "\n",
    "model_input = WordSplitter('data/songs_ids1.txt')\n",
    "model = gensim.models.Word2Vec(model_input, min_count=4)"
   ]
  },
  {
   "cell_type": "code",
   "execution_count": 13,
   "metadata": {},
   "outputs": [],
   "source": [
    "model.save(open('songs.word2vec', 'wb'))"
   ]
  },
  {
   "cell_type": "code",
   "execution_count": 40,
   "metadata": {},
   "outputs": [
    {
     "name": "stdout",
     "output_type": "stream",
     "text": [
      "1BLfQ6dPXmuDrFmbdfW7Jl A Little Piece of Heaven Avenged Sevenfold 217\n",
      "6SUqXJIbeGEMofqAhC0bCv A Little Piece of Heaven Avenged Sevenfold 35\n",
      "1DgoyCYc2S2ahZkGiv66jc A Little Piece of Heaven Avenged Sevenfold 10\n",
      "6sQLtybPi4T8Pllk4Grxf9 A Little Piece of Heaven - Live Avenged Sevenfold 6\n"
     ]
    }
   ],
   "source": [
    "conn = sqlite3.connect('data/songs.db')\n",
    "def find_song(song_name, limit=5):\n",
    "    c = conn.cursor()\n",
    "    c.execute(\"SELECT * FROM songs WHERE UPPER(name) LIKE '%\" + song_name + \"%'\")\n",
    "    res = sorted((x + (model.wv.vocab[x[0]].count,) \n",
    "                  for x in c.fetchall() if x[0] in model.wv.vocab),\n",
    "                 key=itemgetter(-1), reverse=True)\n",
    "\n",
    "    return [*res][:limit]\n",
    "\n",
    "for t in find_song('A little piece of heaven'):\n",
    "    print(*t)"
   ]
  },
  {
   "cell_type": "code",
   "execution_count": 45,
   "metadata": {},
   "outputs": [
    {
     "data": {
      "text/plain": [
       "('16pmJwwNFVCqdXWPZtwZzh', 'Empty Walls', 'Serj Tankian', 0.9903364777565002)"
      ]
     },
     "execution_count": 45,
     "metadata": {},
     "output_type": "execute_result"
    }
   ],
   "source": [
    "def suggest_songs(song_id):\n",
    "    c = conn.cursor()\n",
    "    similar = dict(model.wv.most_similar([song_id]))\n",
    "    song_ids = ', '.join((\"'%s'\" % x) for x in similar.keys())\n",
    "    c.execute(\"SELECT * FROM songs WHERE id in (%s)\" % song_ids)\n",
    "    res = sorted((rec + (similar[rec[0]],) for rec in c.fetchall()), \n",
    "                 key=itemgetter(-1),\n",
    "                 reverse=True)\n",
    "    return [*res]\n",
    "\n",
    "\n",
    "for t in suggest_songs('1BLfQ6dPXmuDrFmbdfW7Jl'):\n",
    "    break\n",
    "\n",
    "t"
   ]
  },
  {
   "cell_type": "code",
   "execution_count": null,
   "metadata": {},
   "outputs": [],
   "source": []
  }
 ],
 "metadata": {
  "kernelspec": {
   "display_name": "Python 3",
   "language": "python",
   "name": "python3"
  },
  "language_info": {
   "codemirror_mode": {
    "name": "ipython",
    "version": 3
   },
   "file_extension": ".py",
   "mimetype": "text/x-python",
   "name": "python",
   "nbconvert_exporter": "python",
   "pygments_lexer": "ipython3",
   "version": "3.7.4"
  }
 },
 "nbformat": 4,
 "nbformat_minor": 4
}
